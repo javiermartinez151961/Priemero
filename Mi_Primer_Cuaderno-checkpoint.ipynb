{
  "nbformat": 4,
  "nbformat_minor": 0,
  "metadata": {
    "colab": {
      "name": "Mi Primer Cuaderno.ipynb",
      "provenance": [],
      "collapsed_sections": []
    },
    "kernelspec": {
      "name": "python3",
      "display_name": "Python 3"
    }
  },
  "cells": [
    {
      "cell_type": "markdown",
      "metadata": {
        "id": "nDtb1VN0hC1z"
      },
      "source": [
        "# La Nostalgia del Melomano\r\n",
        "\r\n",
        "\r\n",
        "\r\n"
      ]
    },
    {
      "cell_type": "markdown",
      "metadata": {
        "id": "OkQfP3Ujou9S"
      },
      "source": [
        "## Este es mi libro favorito (al menos de los mas recientes)\r\n",
        "[Venta en CamLibro](https://camlibro.com.co/reading_colombia/editoriales/icono/la-nostalgia-del-melomano/)\r\n",
        "\r\n",
        "![La Nostalgia del Melomano](http://webs.ucm.es/info/especulo/numero32/garay1.jpg)\r\n",
        "\r\n",
        "*Que tu nunca podras abarcar la musica en un solo instante que tienes que esperar mientras transcurre, ir escuchando una nota detras de la otra*\r\n",
        "\r\n",
        "**Que tu nunca podras abarcar la musica en un solo instante que tienes que esperar mientras transcurre, ir escuchando una nota detras de la otra**\r\n",
        "\r\n",
        "***Que tu nunca podras abarcar la musica en un solo instante que tienes que esperar mientras transcurre, ir escuchando una nota detras de la otra***\r\n",
        "> Ese dia no visite a Cocodrilo Disco\r\n",
        ">> Prueba de Indentacion\r\n",
        "\r\n",
        "\r\n"
      ]
    },
    {
      "cell_type": "markdown",
      "metadata": {
        "id": "gZUgZ27juKHE"
      },
      "source": [
        "# Lenguaje LaTeX\r\n",
        "\r\n"
      ]
    },
    {
      "cell_type": "markdown",
      "metadata": {
        "id": "_Ajem7jBuP0n"
      },
      "source": [
        "El Lenguaje LaTeX se usa para colocar ecuaciones matematicas de forma profesional...\r\n",
        "\r\n",
        "Es el lenguaje usado por la mayoria de los cientificos en el mundo.\r\n",
        "\r\n",
        "$$y=x^2$$\r\n",
        "\r\n",
        "$$\\frac{dC}{dt}=kC$$\r\n",
        "\r\n"
      ]
    },
    {
      "cell_type": "code",
      "metadata": {
        "colab": {
          "base_uri": "https://localhost:8080/"
        },
        "id": "nCyBVGnXwlWm",
        "outputId": "97ef0351-65d3-48bd-fc0b-5a3cfe3f88ca"
      },
      "source": [
        "print(\"hello frind... hello friend?\")"
      ],
      "execution_count": 1,
      "outputs": [
        {
          "output_type": "stream",
          "text": [
            "hello frind... hello friend?\n"
          ],
          "name": "stdout"
        }
      ]
    },
    {
      "cell_type": "markdown",
      "metadata": {
        "id": "a-3WEg2QpEzA"
      },
      "source": [
        "# Recomendaciones Clase\r\n",
        "\r\n"
      ]
    },
    {
      "cell_type": "markdown",
      "metadata": {
        "id": "f6BLbn0wpzie"
      },
      "source": [
        "[Como aprender MarkDown](https://www.markdownguide.org/)\r\n",
        "\r\n",
        "[multiplicación de matrices](http://webs.ucm.es/info/especulo/numero32/garay1.jpg)\r\n",
        "\r\n",
        "[Los videos del día de hoy](https://www.youtube.com/watch?v=bFDfM6fZXq8)\r\n",
        "(https://www.youtube.com/watch?v=bjgZczRUL-s)\r\n",
        "\r\n",
        "[productos Kronoker](https://external-content.duckduckgo.com/iu/?u=https%3A%2F%2Fwww.cc.gatech.edu%2F~san37%2Fimg%2Fdl%2Ftensor.png&f=1&nofb=1)\r\n",
        "\r\n",
        "[Teorema Aproximacion Universal](https://en.wikipedia.org/wiki/Universal_approximation_theorem)\r\n",
        "\r\n",
        "(https://jamboard.google.com/d/1YU8dOzOakHPZWBt9tvrhA5sqRrS958xlTwShbe9dZqQ/edit?usp=meet_whiteboard)\r\n",
        "\r\n",
        "[Funcion de Activacion](https://en.wikipedia.org/wiki/Activation_function)\r\n",
        "\r\n",
        "[Multiplicacion de Matrices](http://matrixmultiplication.xyz/)\r\n",
        "\r\n",
        "[Grabaciones de las Clases](https://drive.google.com/drive/u/0/folders/14xBvpQaNlgZVq0IPP_XeakWv9CVH_RhS)\r\n",
        "\r\n",
        "[Algebra Lineal](https://www.youtube.com/watch?v=bjgZczRUL-s)\r\n",
        "\r\n",
        "[Ejemplo de fotos](https://external-content.duckduckgo.com/iu/?u=http%3A%2F%2Fwebstyleguide.com%2Fwsg1%2Fgraphics%2Fgraphics%2Frgb_image_layers.gif&f=1&nofb=1)\r\n",
        "\r\n",
        "[Filtros de Imagenes](https://external-content.duckduckgo.com/iu/?u=https%3A%2F%2Fmiro.medium.com%2Fmax%2F1038%2F1*4lPMjSPaS2JLWZAaYrXr2Q.jpeg&f=1&nofb=1)\r\n",
        "\r\n",
        "(https://external-content.duckduckgo.com/iu/?u=https%3A%2F%2Fuser-images.githubusercontent.com%2F14825164%2F30440190-62d6f7e4-99a8-11e7-8217-cba3eb4ff5f5.png&f=1&nofb=1)\r\n",
        "\r\n",
        "[link del livestream de mañana a las 11](https://www.youtube.com/watch?v=9p8d_gMrZY0)\r\n",
        "\r\n",
        "(https://github.com/AprendizajeProfundo/Diplomado/blob/master/Temas/M%C3%B3dulo%207-%20Aprendizaje%20Profundo%20I/3.%20Tratamiendo%20de%20im%C3%A1genes/Imagenes/Mila.jpg)"
      ]
    }
  ]
}